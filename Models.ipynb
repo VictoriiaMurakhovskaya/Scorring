{
 "cells": [
  {
   "cell_type": "markdown",
   "metadata": {},
   "source": [
    "## Побудова то оцінка базових моделей"
   ]
  },
  {
   "cell_type": "code",
   "execution_count": 1,
   "metadata": {},
   "outputs": [],
   "source": [
    "import pandas as pd\n",
    "import numpy as np\n",
    "import matplotlib.pyplot as plt\n",
    "from sklearn.experimental import enable_iterative_imputer\n",
    "from sklearn.impute import IterativeImputer\n",
    "from sklearn.preprocessing import LabelEncoder, OrdinalEncoder\n",
    "import sklearn.preprocessing as prep\n",
    "import warnings\n",
    "import logging\n",
    "import sklearn.covariance as cov\n",
    "from scipy.stats import chi2\n",
    "from itertools import product\n",
    "import seaborn as sns\n",
    "import random\n",
    "from sklearn.preprocessing import normalize, StandardScaler\n",
    "from sklearn.model_selection import train_test_split\n",
    "from sklearn.experimental import enable_iterative_imputer\n",
    "from sklearn.impute import IterativeImputer\n",
    "from sklearn.linear_model import LogisticRegression\n",
    "from sklearn.discriminant_analysis import LinearDiscriminantAnalysis  \n",
    "from sklearn.naive_bayes import GaussianNB  \n",
    "from sklearn.tree import DecisionTreeClassifier  \n",
    "from sklearn.svm import SVC\n",
    "import xgboost as xgb\n",
    "from sklearn.metrics import roc_auc_score\n",
    "from lightgbm import LGBMClassifier\n",
    "from sklearn.metrics import accuracy_score, confusion_matrix\n",
    "from numpy import hstack\n",
    "\n",
    "# відключення логерів та попереджень\n",
    "warnings.filterwarnings('ignore')\n",
    "logging.getLogger('matplotlib.font_manager').disabled = True\n",
    "log = logging.getLogger()\n",
    "log.setLevel(logging.CRITICAL)\n",
    "\n",
    "pd.set_option('display.max_columns', None)"
   ]
  },
  {
   "cell_type": "code",
   "execution_count": 2,
   "metadata": {},
   "outputs": [],
   "source": [
    "cleaned_data = pd.read_pickle('cleaned_data_2.pkl')\n",
    "cleaned_data.drop(columns=['FLAG_MOBIL', 'FLAG_DOCUMENT_20'], inplace=True)  # константи"
   ]
  },
  {
   "cell_type": "code",
   "execution_count": 3,
   "metadata": {},
   "outputs": [],
   "source": [
    "metric_df = cleaned_data.loc[:,(np.array(cleaned_data.dtypes == \"float64\")) | (np.array(cleaned_data.dtypes == \"int64\"))].copy()\n",
    "non_metric_df = cleaned_data.loc[:,(np.array(cleaned_data.dtypes !=\"float64\")) & (np.array(cleaned_data.dtypes != \"int64\"))].copy()"
   ]
  },
  {
   "cell_type": "markdown",
   "metadata": {},
   "source": [
    "### Кодування категорійних змінних"
   ]
  },
  {
   "cell_type": "markdown",
   "metadata": {},
   "source": [
    "Деякі моделі класифікації не можуть працювати з категорійними змінними, тому необхідно кодування змінних.    \n",
    "* Змінні з лише двома значеннями закодуємо _LabelEncoder_.       \n",
    "* Змінні з більшою кількістю значень закодуємо _OneHotEncoder_    "
   ]
  },
  {
   "cell_type": "code",
   "execution_count": 4,
   "metadata": {},
   "outputs": [],
   "source": [
    "col_less = [item for item in non_metric_df.columns if cleaned_data[item].nunique() < 3]\n",
    "df_less = cleaned_data[col_less]\n",
    "col_ns = [item for item in non_metric_df.columns if cleaned_data[item].nunique() > 2]\n",
    "df_ns = cleaned_data[col_ns]"
   ]
  },
  {
   "cell_type": "code",
   "execution_count": 5,
   "metadata": {},
   "outputs": [],
   "source": [
    "le = LabelEncoder()\n",
    "for col in col_less:\n",
    "    df_less[col] = le.fit_transform(df_less[col])"
   ]
  },
  {
   "cell_type": "code",
   "execution_count": 6,
   "metadata": {},
   "outputs": [],
   "source": [
    "df_ns = pd.get_dummies(df_ns)"
   ]
  },
  {
   "cell_type": "code",
   "execution_count": 7,
   "metadata": {},
   "outputs": [],
   "source": [
    "df = metric_df.merge(df_less, left_index=True, right_index=True).merge(df_ns, left_index=True, right_index=True)"
   ]
  },
  {
   "cell_type": "markdown",
   "metadata": {},
   "source": [
    "### Побудова базових моделей"
   ]
  },
  {
   "cell_type": "markdown",
   "metadata": {},
   "source": [
    "__Стандартизація метричних змінних__"
   ]
  },
  {
   "cell_type": "code",
   "execution_count": 8,
   "metadata": {},
   "outputs": [],
   "source": [
    "y = df[['TARGET']].values\n",
    "X = df.drop(columns=['TARGET'])\n",
    "se = StandardScaler()\n",
    "X = se.fit_transform(X)\n",
    "X = normalize(X)"
   ]
  },
  {
   "cell_type": "markdown",
   "metadata": {},
   "source": [
    "__Виділення тренувального та тестового датасетів__"
   ]
  },
  {
   "cell_type": "code",
   "execution_count": 9,
   "metadata": {},
   "outputs": [],
   "source": [
    "X_train, X_test, y_train, y_test = train_test_split(X, y, test_size = 0.2)"
   ]
  },
  {
   "cell_type": "code",
   "execution_count": 10,
   "metadata": {},
   "outputs": [],
   "source": [
    "models = {}"
   ]
  },
  {
   "cell_type": "markdown",
   "metadata": {},
   "source": [
    "__Логістична регресія__"
   ]
  },
  {
   "cell_type": "code",
   "execution_count": 11,
   "metadata": {},
   "outputs": [],
   "source": [
    "clf = LogisticRegression(random_state=0, C = 0.01, n_jobs=6)\n",
    "clf.fit(X_train, y_train)\n",
    "models.update({'LR': clf})"
   ]
  },
  {
   "cell_type": "markdown",
   "metadata": {},
   "source": [
    "__Градієнтний бустінг випадкового лісу (XGBoost)__"
   ]
  },
  {
   "cell_type": "code",
   "execution_count": 12,
   "metadata": {},
   "outputs": [],
   "source": [
    "clf = xgb.XGBClassifier(n_jobs=6, verbosity=0)\n",
    "clf.fit(X_train, y_train, verbose=False, early_stopping_rounds=100, eval_metric=\"auc\",\n",
    "        eval_set=[(X_test, y_test)])\n",
    "models.update({'XGB': clf})"
   ]
  },
  {
   "cell_type": "markdown",
   "metadata": {},
   "source": [
    "__Градієнтний бустінг випадкового лісу (LGBM)__"
   ]
  },
  {
   "cell_type": "code",
   "execution_count": 13,
   "metadata": {},
   "outputs": [],
   "source": [
    "clf = LGBMClassifier(n_jobs = 6)\n",
    "clf.fit(X_train, y_train)\n",
    "models.update({'LGBM': clf})"
   ]
  },
  {
   "cell_type": "markdown",
   "metadata": {},
   "source": [
    "__Лінійний дискримінантний аналіз__"
   ]
  },
  {
   "cell_type": "code",
   "execution_count": 14,
   "metadata": {},
   "outputs": [],
   "source": [
    "clf = LinearDiscriminantAnalysis(solver='lsqr')\n",
    "clf.fit(X_train, y_train)\n",
    "models.update({'LDA': clf})"
   ]
  },
  {
   "cell_type": "markdown",
   "metadata": {},
   "source": [
    "__Байєсівський класифікатор__"
   ]
  },
  {
   "cell_type": "code",
   "execution_count": 15,
   "metadata": {},
   "outputs": [],
   "source": [
    "clf = GaussianNB()\n",
    "clf.fit(X_train, y_train)\n",
    "models.update({'NB': clf})"
   ]
  },
  {
   "cell_type": "markdown",
   "metadata": {},
   "source": [
    "__Класифікатор дерева рішень__"
   ]
  },
  {
   "cell_type": "code",
   "execution_count": 16,
   "metadata": {},
   "outputs": [],
   "source": [
    "clf = DecisionTreeClassifier(criterion='entropy', )\n",
    "clf.fit(X_train, y_train)\n",
    "models.update({'DT': clf})"
   ]
  },
  {
   "cell_type": "markdown",
   "metadata": {},
   "source": [
    "__Порівняння моделей__"
   ]
  },
  {
   "cell_type": "code",
   "execution_count": 17,
   "metadata": {},
   "outputs": [
    {
     "name": "stdout",
     "output_type": "stream",
     "text": [
      "LR: AUC 0.7368163673329833, Accuracy score 0.9179859394449412\n",
      "XGB: AUC 0.7433183556531034, Accuracy score 0.9177755570749838\n",
      "LGBM: AUC 0.7456149856958607, Accuracy score 0.9177404933466575\n",
      "LDA: AUC 0.7368610370394694, Accuracy score 0.9172671330142534\n",
      "NB: AUC 0.5427182853876715, Accuracy score 0.14092112414313013\n",
      "DT: AUC 0.5345904246118365, Accuracy score 0.8530479145847578\n"
     ]
    }
   ],
   "source": [
    "for key in models.keys():\n",
    "    clf = models[key]\n",
    "    y_proba = clf.predict_proba(X_test)[:, 1]\n",
    "    y_pred = clf.predict(X_test)\n",
    "    print('{}: AUC {}, Accuracy score {}'.format(key, roc_auc_score(y_test, y_proba), accuracy_score(y_test, y_pred)))"
   ]
  },
  {
   "cell_type": "code",
   "execution_count": 18,
   "metadata": {},
   "outputs": [],
   "source": [
    "def fit_ensemble(models, X_train, X_val, y_train, y_val):\n",
    "    meta_X = list()\n",
    "    for model in models:\n",
    "        model.fit(X_train, y_train)\n",
    "        yhat = model.predict(X_val)\n",
    "        yhat = yhat.reshape(len(yhat), 1)\n",
    "        meta_X.append(yhat)\n",
    "    meta_X = hstack(meta_X)\n",
    "    blender = LogisticRegression()\n",
    "    blender.fit(meta_X, y_val)\n",
    "    return blender"
   ]
  },
  {
   "cell_type": "code",
   "execution_count": 19,
   "metadata": {},
   "outputs": [],
   "source": [
    "def predict_ensemble(models, blender, X_test):\n",
    "    meta_X = list()\n",
    "    for model in models:\n",
    "        yhat = model.predict(X_test)\n",
    "        yhat = yhat.reshape(len(yhat), 1)\n",
    "        meta_X.append(yhat)\n",
    "    meta_X = hstack(meta_X)\n",
    "    return blender.predict(meta_X)"
   ]
  },
  {
   "cell_type": "code",
   "execution_count": 20,
   "metadata": {},
   "outputs": [
    {
     "name": "stdout",
     "output_type": "stream",
     "text": [
      "Train: (95539, 217), Val: (47058, 217), Test: (142598, 217)\n"
     ]
    }
   ],
   "source": [
    "# split dataset into train and test sets\n",
    "X_train_full, X_test, y_train_full, y_test = train_test_split(X, y, test_size=0.5, random_state=1)\n",
    "# split training set into train and validation sets\n",
    "X_train, X_val, y_train, y_val = train_test_split(X_train_full, y_train_full, test_size=0.33, random_state=1)\n",
    "# summarize data split\n",
    "print('Train: %s, Val: %s, Test: %s' % (X_train.shape, X_val.shape, X_test.shape))"
   ]
  },
  {
   "cell_type": "code",
   "execution_count": 22,
   "metadata": {},
   "outputs": [],
   "source": [
    "models = {models[key] for key in list(models.keys())[:4]}"
   ]
  },
  {
   "cell_type": "code",
   "execution_count": 23,
   "metadata": {},
   "outputs": [
    {
     "name": "stdout",
     "output_type": "stream",
     "text": [
      "Blending Accuracy: 0.919\n"
     ]
    }
   ],
   "source": [
    "# train the blending ensemble\n",
    "blender = fit_ensemble(models, X_train, X_val, y_train, y_val)\n",
    "# make predictions on test set\n",
    "yhat = predict_ensemble(models, blender, X_test)\n",
    "score = accuracy_score(y_test, yhat)\n",
    "print('Blending Accuracy: {:.3f}'.format(score))"
   ]
  }
 ],
 "metadata": {
  "kernelspec": {
   "display_name": "Python 3",
   "language": "python",
   "name": "python3"
  },
  "language_info": {
   "codemirror_mode": {
    "name": "ipython",
    "version": 3
   },
   "file_extension": ".py",
   "mimetype": "text/x-python",
   "name": "python",
   "nbconvert_exporter": "python",
   "pygments_lexer": "ipython3",
   "version": "3.8.5"
  }
 },
 "nbformat": 4,
 "nbformat_minor": 4
}
